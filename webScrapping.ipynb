{
 "cells": [
  {
   "cell_type": "code",
   "execution_count": 43,
   "metadata": {
    "collapsed": true
   },
   "outputs": [],
   "source": [
    "from bs4 import BeautifulSoup"
   ]
  },
  {
   "cell_type": "code",
   "execution_count": 44,
   "metadata": {
    "collapsed": true
   },
   "outputs": [],
   "source": [
    "f = open(\"pagehtml.txt\", \"r\")\n",
    "webpage = f.read()\n",
    "f.close()"
   ]
  },
  {
   "cell_type": "code",
   "execution_count": 45,
   "metadata": {
    "collapsed": false
   },
   "outputs": [
    {
     "name": "stdout",
     "output_type": "stream",
     "text": [
      "{'Emory Universityâ€™s Goizueta Business School: MS in Business Analytics': ' $70,296', 'Temple Universityâ€™s Fox School of Business: MS in Digital Innovation in Marketing': ' $30,312', 'Georgetown Universityâ€™s McDonough School of Business: MS in Management': ' $55,000', 'University of Cincinnatiâ€™s Carl H. Lindner College of Business: MA in Human Resources': ' $19,280 In-State, $22,118 Out-of-State', 'University of California San Diegoâ€™s Rady School of Management: MS in Business Analytics': ' $56,250', 'William and Maryâ€™s Raymond A. Masonâ€™s School of Business: Master of Accounting': ' $34,848 (In-State), $45,818 (Out-Of-State)', 'Georgia State Universityâ€™s Robinson College of Business: Flexible Master of Professional Accountancy': ' $22,164', 'Imperial College Business School: MSc International Health Management': ' Â£27,500', 'Baruch Collegeâ€™s Zicklin School of Business: MS in Marketing': ' $15,675', 'Santa Clara Universityâ€™s Leavey School of Business: MS in Finance': ' $57, 575'}\n"
     ]
    }
   ],
   "source": [
    "soup = BeautifulSoup(webpage,'lxml')\n",
    "ul = soup.find(\"ul\")\n",
    "lis = ul.find_all(\"li\")\n",
    "final = []\n",
    "tut = []\n",
    "for item in lis:\n",
    "\tx = item.find(\"div\",{ \"class\" : \"pq-dir-list-item-top\"}).find(\"a\").text\n",
    "\ty = item.find(\"p\",{\"class\":\"tuition\"}).text.split(\":\")[1]\n",
    "\ttut.append(y)\n",
    "\tfinal.append(x)\n",
    "\n",
    "dt = {}\n",
    "for x in range(0,len(final)):\n",
    "\tdt[final[x]]=tut[x]\n",
    "print(dt)"
   ]
  },
  {
   "cell_type": "code",
   "execution_count": 46,
   "metadata": {
    "collapsed": true
   },
   "outputs": [],
   "source": [
    "import pandas as pd\n",
    "import numpy as np"
   ]
  },
  {
   "cell_type": "code",
   "execution_count": 72,
   "metadata": {
    "collapsed": false,
    "scrolled": true
   },
   "outputs": [
    {
     "name": "stdout",
     "output_type": "stream",
     "text": [
      "                                                                                              0\n",
      "Emory Universityâ€™s Goizueta Business School: ...                                      $70,296\n",
      "Temple Universityâ€™s Fox School of Business: M...                                      $30,312\n",
      "Georgetown Universityâ€™s McDonough School of B...                                      $55,000\n",
      "University of Cincinnatiâ€™s Carl H. Lindner Co...       $19,280 In-State, $22,118 Out-of-State\n",
      "University of California San Diegoâ€™s Rady Sch...                                      $56,250\n",
      "William and Maryâ€™s Raymond A. Masonâ€™s Schoo...   $34,848 (In-State), $45,818 (Out-Of-State)\n",
      "Georgia State Universityâ€™s Robinson College o...                                      $22,164\n",
      "Imperial College Business School: MSc Internati...                                     Â£27,500\n",
      "Baruch Collegeâ€™s Zicklin School of Business: ...                                      $15,675\n",
      "Santa Clara Universityâ€™s Leavey School of Bus...                                     $57, 575\n"
     ]
    }
   ],
   "source": [
    "data1 = pd.DataFrame(tut[:],final [:])\n",
    "print(data1)"
   ]
  },
  {
   "cell_type": "code",
   "execution_count": 70,
   "metadata": {
    "collapsed": false
   },
   "outputs": [],
   "source": [
    "data1.to_csv(r'Book3.csv', encoding='utf-8', index=False)"
   ]
  },
  {
   "cell_type": "code",
   "execution_count": null,
   "metadata": {
    "collapsed": true
   },
   "outputs": [],
   "source": []
  }
 ],
 "metadata": {
  "kernelspec": {
   "display_name": "Python 3",
   "language": "python",
   "name": "python3"
  },
  "language_info": {
   "codemirror_mode": {
    "name": "ipython",
    "version": 3
   },
   "file_extension": ".py",
   "mimetype": "text/x-python",
   "name": "python",
   "nbconvert_exporter": "python",
   "pygments_lexer": "ipython3",
   "version": "3.6.0"
  }
 },
 "nbformat": 4,
 "nbformat_minor": 2
}
